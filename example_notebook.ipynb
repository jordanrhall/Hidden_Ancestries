{
 "cells": [
  {
   "cell_type": "markdown",
   "metadata": {},
   "source": [
    "# Hendricks Group\n",
    "\n",
    "# Hidden Ancestry Example Notebook"
   ]
  },
  {
   "cell_type": "markdown",
   "metadata": {},
   "source": [
    "_In the following notebook, we solve an example Hidden Ancestries problem using the main features in this Python package._ \n",
    "\n",
    "* We use simulated SNPs with minor allele frequencies for $K=5$ ancestries -- European ancestries, African ancestries, South Asian ancestries, East Asian ancestries, and Indigenous American ancestires. \n",
    "\n",
    "* We numerically solve for the 5 ancestry's true proportions in the _observed_ population, which is the vector $\\pi^*:=(\\pi_1,\\pi_2,\\pi_3,\\pi_4, \\pi_5)$.\n",
    "    * $\\pi_1$ denotes the proportion of European ancestries in the observed population\n",
    "    * $\\pi_2$ denotes the proportion of African ancestries in the observed population\n",
    "    * $\\pi_3$ denotes the proportion of South Asian ancestries in the observed population\n",
    "    * $\\pi_4$ denotes the proportion of East Asian ancestries in the observed population\n",
    "    * $\\pi_5$ denotes the proportion of Indigenous American ancestries in the observed population\n",
    "\n",
    "* In this notebook, we work with an example data set $D$ with $N=10,000$ SNPs and ensure that our Python script correctly uses the data to solve for these ancestry proportions using Sequential Least Squares Quadratic Programming, or SLSQP."
   ]
  },
  {
   "cell_type": "markdown",
   "metadata": {},
   "source": [
    "* The cell below calls the generalized HA script, which is the main feature of the HA Python package. \n",
    "* Then we can access the functions inside of the script to solve an example problem."
   ]
  },
  {
   "cell_type": "code",
   "execution_count": 1,
   "metadata": {},
   "outputs": [],
   "source": [
    "%run HA_script.py"
   ]
  },
  {
   "cell_type": "markdown",
   "metadata": {},
   "source": [
    "* In the cell below, we read in the example data set provided with this package, called \"HA-package-data.txt\".\n",
    "    * We have provided this data in a CSV format as well\n",
    "* We use Pandas to convert from the .txt, tab-delimited format to an array endowed with numerical linear algebra properties Python understands.\n",
    "* How data is formatted matters a lot -- order matters...\n",
    "    * The data should contain Chromosome number, SNP number (RSID, location on genome), base pair (bP), reference and alternate alleles (A1 and A2),the $K=5$ minor allele frequencies of the (1000 genomes) reference ancestires (in this case), and finally, any (gnomAD) observed allele frequencies we wish to model. \n",
    "    * $D$ does not contain an indexing column containing the natural numbers up to $N$ -- Pandas/Jupyter is just showing this as part of the print statement -- it is not a column of $D$ itself! \n",
    "    * We only need certain columns of $D$ to solve our example problem...\n",
    "        * That is, we only need the minor allele frequencies and whichever observed allele frequency we are modeling, which should be $K+1$ columns of D. In our case, we need 6 of the total 13 columns.\n",
    "    * For more info about data formatting, please see our Data Formatting Guide.\n",
    "* We print out the first 5 rows of $D$ to take a look at its structure and check for basic correctness in what we _think_ we are working with!\n",
    "\n",
    "#### Note that everything done in the cell below is already handled in our HA_script; the user does not have to read-in the data on their own.\n",
    "###### We choose to show the Pandas read-in process below for general demonstration and checks below. Also, we can print out the data for inspection."
   ]
  },
  {
   "cell_type": "code",
   "execution_count": 2,
   "metadata": {},
   "outputs": [
    {
     "data": {
      "text/html": [
       "<div>\n",
       "<style scoped>\n",
       "    .dataframe tbody tr th:only-of-type {\n",
       "        vertical-align: middle;\n",
       "    }\n",
       "\n",
       "    .dataframe tbody tr th {\n",
       "        vertical-align: top;\n",
       "    }\n",
       "\n",
       "    .dataframe thead th {\n",
       "        text-align: right;\n",
       "    }\n",
       "</style>\n",
       "<table border=\"1\" class=\"dataframe\">\n",
       "  <thead>\n",
       "    <tr style=\"text-align: right;\">\n",
       "      <th></th>\n",
       "      <th>CHR</th>\n",
       "      <th>RSID</th>\n",
       "      <th>bP</th>\n",
       "      <th>A1</th>\n",
       "      <th>A2</th>\n",
       "      <th>ref_eur_1000G</th>\n",
       "      <th>ref_afr_1000G</th>\n",
       "      <th>ref_sas_1000G</th>\n",
       "      <th>ref_eas_1000G</th>\n",
       "      <th>ref_iam_1000G</th>\n",
       "      <th>obs_afr_gnomad</th>\n",
       "      <th>obs_amr_gnomad</th>\n",
       "      <th>obs_oth_gnomad</th>\n",
       "    </tr>\n",
       "  </thead>\n",
       "  <tbody>\n",
       "    <tr>\n",
       "      <th>0</th>\n",
       "      <td>1</td>\n",
       "      <td>rs2887286</td>\n",
       "      <td>1156131</td>\n",
       "      <td>C</td>\n",
       "      <td>T</td>\n",
       "      <td>0.173275</td>\n",
       "      <td>0.541663</td>\n",
       "      <td>0.531712</td>\n",
       "      <td>0.846223</td>\n",
       "      <td>0.7093</td>\n",
       "      <td>0.488610</td>\n",
       "      <td>0.525943</td>\n",
       "      <td>0.229705</td>\n",
       "    </tr>\n",
       "    <tr>\n",
       "      <th>1</th>\n",
       "      <td>1</td>\n",
       "      <td>rs41477744</td>\n",
       "      <td>2329564</td>\n",
       "      <td>A</td>\n",
       "      <td>G</td>\n",
       "      <td>0.001238</td>\n",
       "      <td>0.035714</td>\n",
       "      <td>0.000000</td>\n",
       "      <td>0.000000</td>\n",
       "      <td>0.0000</td>\n",
       "      <td>0.045914</td>\n",
       "      <td>0.001179</td>\n",
       "      <td>0.008272</td>\n",
       "    </tr>\n",
       "    <tr>\n",
       "      <th>2</th>\n",
       "      <td>1</td>\n",
       "      <td>rs9661525</td>\n",
       "      <td>2952840</td>\n",
       "      <td>G</td>\n",
       "      <td>T</td>\n",
       "      <td>0.168316</td>\n",
       "      <td>0.120048</td>\n",
       "      <td>0.099180</td>\n",
       "      <td>0.393853</td>\n",
       "      <td>0.2442</td>\n",
       "      <td>0.135977</td>\n",
       "      <td>0.286052</td>\n",
       "      <td>0.155617</td>\n",
       "    </tr>\n",
       "    <tr>\n",
       "      <th>3</th>\n",
       "      <td>1</td>\n",
       "      <td>rs2817174</td>\n",
       "      <td>3044181</td>\n",
       "      <td>C</td>\n",
       "      <td>T</td>\n",
       "      <td>0.428213</td>\n",
       "      <td>0.959325</td>\n",
       "      <td>0.639072</td>\n",
       "      <td>0.570454</td>\n",
       "      <td>0.5000</td>\n",
       "      <td>0.854879</td>\n",
       "      <td>0.488180</td>\n",
       "      <td>0.470425</td>\n",
       "    </tr>\n",
       "    <tr>\n",
       "      <th>4</th>\n",
       "      <td>1</td>\n",
       "      <td>rs12139206</td>\n",
       "      <td>3504073</td>\n",
       "      <td>T</td>\n",
       "      <td>C</td>\n",
       "      <td>0.204215</td>\n",
       "      <td>0.801565</td>\n",
       "      <td>0.393671</td>\n",
       "      <td>0.389881</td>\n",
       "      <td>0.3372</td>\n",
       "      <td>0.724178</td>\n",
       "      <td>0.295508</td>\n",
       "      <td>0.258748</td>\n",
       "    </tr>\n",
       "  </tbody>\n",
       "</table>\n",
       "</div>"
      ],
      "text/plain": [
       "   CHR        RSID       bP A1 A2  ref_eur_1000G  ref_afr_1000G  \\\n",
       "0    1   rs2887286  1156131  C  T       0.173275       0.541663   \n",
       "1    1  rs41477744  2329564  A  G       0.001238       0.035714   \n",
       "2    1   rs9661525  2952840  G  T       0.168316       0.120048   \n",
       "3    1   rs2817174  3044181  C  T       0.428213       0.959325   \n",
       "4    1  rs12139206  3504073  T  C       0.204215       0.801565   \n",
       "\n",
       "   ref_sas_1000G  ref_eas_1000G  ref_iam_1000G  obs_afr_gnomad  \\\n",
       "0       0.531712       0.846223         0.7093        0.488610   \n",
       "1       0.000000       0.000000         0.0000        0.045914   \n",
       "2       0.099180       0.393853         0.2442        0.135977   \n",
       "3       0.639072       0.570454         0.5000        0.854879   \n",
       "4       0.393671       0.389881         0.3372        0.724178   \n",
       "\n",
       "   obs_amr_gnomad  obs_oth_gnomad  \n",
       "0        0.525943        0.229705  \n",
       "1        0.001179        0.008272  \n",
       "2        0.286052        0.155617  \n",
       "3        0.488180        0.470425  \n",
       "4        0.295508        0.258748  "
      ]
     },
     "execution_count": 2,
     "metadata": {},
     "output_type": "execute_result"
    }
   ],
   "source": [
    "import pandas as pd\n",
    "\n",
    "# Read in the data (if tab delimited txt)\n",
    "D = pd.read_csv(\"HA-package-data.txt\",sep='\\t')\n",
    "\n",
    "# Read in the data (if CSV)\n",
    "#D = pd.read_csv(\"HA-package-data.csv\")\n",
    "\n",
    "D.head(5) ### Look at the first 5 rows"
   ]
  },
  {
   "cell_type": "markdown",
   "metadata": {},
   "source": [
    "* In the cell below, we specify the number of reference ancestries, $K$, (here we have 5) and choose an initial iterate.\n",
    "    * Choosing an initial iterate is optional.\n",
    "    * The default initial iterate is $\\pi^{(0)}=\\frac{1}{K}(1,\\ldots,1)\\in \\mathbb{R}^{K}$, if one is not provided.\n",
    "    * The initial iterate must be a $K \\times 1$ (column) or $1 \\times K$ (row) vector (the HA script can handle either shape)."
   ]
  },
  {
   "cell_type": "code",
   "execution_count": 3,
   "metadata": {},
   "outputs": [
    {
     "data": {
      "text/plain": [
       "(1, 5)"
      ]
     },
     "execution_count": 3,
     "metadata": {},
     "output_type": "execute_result"
    }
   ],
   "source": [
    "K=5 # User must specify number of ancestries!\n",
    "pi_0 = [[0.3,0.1,0.2,0.1,0.3]] # You do not have to provide the initial iterate, but you may.\n",
    "np.shape(pi_0) # Check for correct shape"
   ]
  },
  {
   "cell_type": "markdown",
   "metadata": {},
   "source": [
    "* In the cell below, we quickly check that we have specified a data matrix $D$ and total number of ancestries $K$ that match the number of SNPs we think we are working with as well as the correct reference ancestry number."
   ]
  },
  {
   "cell_type": "code",
   "execution_count": 4,
   "metadata": {},
   "outputs": [
    {
     "name": "stdout",
     "output_type": "stream",
     "text": [
      "our problem includes 10000 SNPs, and 5 reference ancestries.\n"
     ]
    }
   ],
   "source": [
    "print('our problem includes', np.shape(D)[0], 'SNPs, and', K, 'reference ancestries.')"
   ]
  },
  {
   "cell_type": "markdown",
   "metadata": {},
   "source": [
    "* In the cell below, we apply the HA function to our data file, with intial iterate $\\pi^{(0)}$ (optional), and the number of ancestries, $K=5$. \n",
    "    * We can also provide different observation columns if we choose.\n",
    "* The HA function will output an array containing the numerical solution, $\\pi^{final}$, the number of SLSQP iterations taken to find the numerical solution, and the total runtime (in seconds) of SLSQP.\n",
    "    * All of these are callable ojects and we show how that works below.\n",
    "    * The function will also by default print these items out, as we will see."
   ]
  },
  {
   "cell_type": "code",
   "execution_count": 5,
   "metadata": {},
   "outputs": [
    {
     "name": "stdout",
     "output_type": "stream",
     "text": [
      "Numerical solution via SLSQP, pi_final =  [0.15767165 0.82505753 0.00328754 0.00767394 0.00630933]\n",
      "\n",
      "Number of SLSQP iterations: 11\n",
      "\n",
      "Runtime: 0.0552023 seconds\n"
     ]
    }
   ],
   "source": [
    "# Easiest way to run HA in our setting\n",
    "answer_obj=HA(K,file=\"HA-package-data.txt\") # entering bare minimum amount of info and storing so I can grab objects out\n",
    "\n",
    "# Other ways to call the function in this setup, more verbose:\n",
    "#answer_obj=HA(K,x_guess=pi_0,obs=1,file=\"HA-package-data.txt\",file_format='tab') # specifying all inputs\n",
    "#answer_obj=HA(K,x_guess=pi_0,obs=1,file=\"HA-package-data.csv\",file_format='csv') # for CSV data"
   ]
  },
  {
   "cell_type": "markdown",
   "metadata": {},
   "source": [
    "#### _Above we see a printout of the numerical solution, $\\pi^{final}$, the number of SLSQP iterations, and the time in seconds of the run._\n",
    "\n",
    "#### In detail:\n",
    "\n",
    "* The numerical solution we have found is given by $$\\pi^\\text{final}\\approx (0.158,0.825,0.003,0.008,0.006)$$\n",
    "\n",
    "    * $\\pi_1^\\text{final}\\approx 0.158$ denotes the proportion of European ancestries in the observed population\n",
    "    * $\\pi_2^\\text{final}\\approx 0.825$ denotes the proportion of African ancestries in the observed population\n",
    "    * $\\pi_3^\\text{final}\\approx 0.003$ denotes the proportion of South Asian ancestries in the observed population\n",
    "    * $\\pi_4^\\text{final}\\approx 0.008$ denotes the proportion of East Asian ancestries in the observed population\n",
    "    * $\\pi_5^\\text{final}\\approx 0.006$ denotes the proportion of Indigenous American ancestries in the observed population\n",
    "    * ___Recall that we chose the gnomAD African sample for our observed population in this example.___\n",
    "    \n",
    "    \n",
    "* SLSQP went through about 10-12 iterations to obtain this numerical solution\n",
    "    \n",
    "\n",
    "* The runtime of the script/computational process should be less than a second, depending on your machine.\n",
    "\n",
    "<br>"
   ]
  },
  {
   "cell_type": "markdown",
   "metadata": {},
   "source": [
    "* The \"answer_obj\" can now be \"unpacked\" by calling the 0th, 1st, or 2nd entry in that object which will return the solution vector, number of iterations, and time, respectively.\n",
    "    * May be useful if you want to analyze the solution vector in some fashion, or find average run times over many trials, etc.\n",
    "    * To demonstrate, let's check that our solution vector adds up to 1 exactly."
   ]
  },
  {
   "cell_type": "code",
   "execution_count": 6,
   "metadata": {},
   "outputs": [
    {
     "name": "stdout",
     "output_type": "stream",
     "text": [
      "1.0\n"
     ]
    }
   ],
   "source": [
    "pi_final = answer_obj[0] # Defines pi_final as the solution vector\n",
    "print(np.sum(pi_final,axis=0)) # Check that components of solution vector add to 1"
   ]
  }
 ],
 "metadata": {
  "kernelspec": {
   "display_name": "Python 3",
   "language": "python",
   "name": "python3"
  },
  "language_info": {
   "codemirror_mode": {
    "name": "ipython",
    "version": 3
   },
   "file_extension": ".py",
   "mimetype": "text/x-python",
   "name": "python",
   "nbconvert_exporter": "python",
   "pygments_lexer": "ipython3",
   "version": "3.6.5"
  }
 },
 "nbformat": 4,
 "nbformat_minor": 2
}
